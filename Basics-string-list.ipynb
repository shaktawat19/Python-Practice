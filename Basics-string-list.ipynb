{
 "cells": [
  {
   "cell_type": "markdown",
   "id": "2c03abd7",
   "metadata": {},
   "source": [
    "Jupyter notebook dsnt compile or interpret this code\n",
    "Code is sent to kernel, which send executed code to jupyter for display.\n",
    "\n"
   ]
  },
  {
   "cell_type": "code",
   "execution_count": 66,
   "id": "dd5ebbcf",
   "metadata": {},
   "outputs": [
    {
     "data": {
      "text/plain": [
       "<function int.to_bytes(length, byteorder, *, signed=False)>"
      ]
     },
     "execution_count": 66,
     "metadata": {},
     "output_type": "execute_result"
    }
   ],
   "source": [
    "# variable. then press tab to get fns, etc stuff\n",
    "a = 10\n",
    "a.to_bytes"
   ]
  },
  {
   "cell_type": "code",
   "execution_count": 27,
   "id": "893001e7",
   "metadata": {},
   "outputs": [
    {
     "data": {
      "text/plain": [
       "[1, 2, 3, 'hey']"
      ]
     },
     "execution_count": 27,
     "metadata": {},
     "output_type": "execute_result"
    }
   ],
   "source": [
    "[1, 2, 3] + [\"hey\"]"
   ]
  },
  {
   "cell_type": "code",
   "execution_count": 5,
   "id": "859fd8fa",
   "metadata": {},
   "outputs": [
    {
     "name": "stdout",
     "output_type": "stream",
     "text": [
      "2727655861136\n"
     ]
    }
   ],
   "source": [
    "a = \"harsh\"\n",
    "a = 20\n",
    "print(id(a)); # number range from -5 to 256 will have same id of diff. variables"
   ]
  },
  {
   "cell_type": "code",
   "execution_count": 7,
   "id": "e2f6e1b2",
   "metadata": {},
   "outputs": [
    {
     "name": "stdout",
     "output_type": "stream",
     "text": [
      "2.5\n",
      "2\n",
      "10000\n"
     ]
    }
   ],
   "source": [
    "c = 10\n",
    "d = 4\n",
    "print(c/d) # floating point division\n",
    "print(c//d) # integer division\n",
    "print(c**d) # exponentiation"
   ]
  },
  {
   "cell_type": "code",
   "execution_count": 11,
   "id": "2f97f68b",
   "metadata": {},
   "outputs": [
    {
     "data": {
      "text/plain": [
       "4.0"
      ]
     },
     "execution_count": 11,
     "metadata": {},
     "output_type": "execute_result"
    }
   ],
   "source": [
    "2 * 6 / 3"
   ]
  },
  {
   "cell_type": "code",
   "execution_count": 1,
   "id": "0ef1494c",
   "metadata": {},
   "outputs": [
    {
     "name": "stdout",
     "output_type": "stream",
     "text": [
      "10\n"
     ]
    }
   ],
   "source": [
    "# input: it returns string.\n",
    "a = int(input())     # type conversion to int"
   ]
  },
  {
   "cell_type": "code",
   "execution_count": 35,
   "id": "b4d5265b",
   "metadata": {},
   "outputs": [
    {
     "name": "stdout",
     "output_type": "stream",
     "text": [
      "20\n",
      "2\n",
      "something\n"
     ]
    }
   ],
   "source": [
    "num1 = int(input())\n",
    "num2 = int(input())\n",
    "if (num1 > 10 and num2 > 10): \n",
    "    print(\"yes they are\")\n",
    "elif True: print(\"something\")\n",
    "else:\n",
    "    print(\"no\")"
   ]
  },
  {
   "cell_type": "code",
   "execution_count": 36,
   "id": "0d31020b",
   "metadata": {},
   "outputs": [
    {
     "name": "stdout",
     "output_type": "stream",
     "text": [
      "5\n",
      "prime\n"
     ]
    }
   ],
   "source": [
    "num = int(input())\n",
    "i = 2\n",
    "isPrime = True\n",
    "while(i < num):\n",
    "    if num % i == 0: \n",
    "        isPrime = False\n",
    "        break\n",
    "    i = i + 1\n",
    "if(isPrime): print(\"prime\")\n",
    "else: print(\"Not prime\")"
   ]
  },
  {
   "cell_type": "code",
   "execution_count": 4,
   "id": "c5fe0e94",
   "metadata": {},
   "outputs": [
    {
     "name": "stdout",
     "output_type": "stream",
     "text": [
      "H a r s h "
     ]
    }
   ],
   "source": [
    "myString = \"Harsh\"\n",
    "for character in myString:\n",
    "    print(character, end=\" \")"
   ]
  },
  {
   "cell_type": "code",
   "execution_count": 9,
   "id": "3d9fc7b4",
   "metadata": {
    "scrolled": true
   },
   "outputs": [
    {
     "name": "stdout",
     "output_type": "stream",
     "text": [
      "5\n",
      "1\n",
      "2\n",
      "3\n",
      "4\n"
     ]
    }
   ],
   "source": [
    "# Print num from 0 to n\n",
    "n = int(input())\n",
    "# range(start, stop, stride) \n",
    "# stride means increment by certain digit.\n",
    "# It will print till < n.\n",
    "# NOTE: range() accept only integer args.\n",
    "\n",
    "for i in range(1, n, 1):\n",
    "    print(i)"
   ]
  },
  {
   "cell_type": "code",
   "execution_count": 10,
   "id": "16a4fcee",
   "metadata": {},
   "outputs": [
    {
     "name": "stdout",
     "output_type": "stream",
     "text": [
      "01234\n",
      "0 1 2 3 4 5 "
     ]
    }
   ],
   "source": [
    "# If we give only one argument to range, then it will be considered as stop.\n",
    "# And by default start will be 0, and stride will be 1.\n",
    "n = 5\n",
    "for i in range(n): print(i, end=\"\")\n",
    "print()\n",
    "for i in range(n + 1): print(i, end=\" \")"
   ]
  },
  {
   "cell_type": "code",
   "execution_count": 14,
   "id": "d3ecd70f",
   "metadata": {},
   "outputs": [
    {
     "name": "stdout",
     "output_type": "stream",
     "text": [
      "5\n",
      "5\n",
      "4\n",
      "3\n",
      "2\n",
      "1\n"
     ]
    }
   ],
   "source": [
    "# numbers from n to 1\n",
    "n = int(input())\n",
    "for i in range(n, 0, -1):\n",
    "    print(i)"
   ]
  },
  {
   "cell_type": "code",
   "execution_count": 1,
   "id": "fe7a8ccd",
   "metadata": {},
   "outputs": [
    {
     "name": "stdout",
     "output_type": "stream",
     "text": [
      "1 3 "
     ]
    }
   ],
   "source": [
    "for i in range(1,5,2):\n",
    "    print(i, end=' ')"
   ]
  },
  {
   "cell_type": "code",
   "execution_count": 13,
   "id": "ced55249",
   "metadata": {
    "scrolled": true
   },
   "outputs": [
    {
     "name": "stdout",
     "output_type": "stream",
     "text": [
      "2\n",
      "9\n",
      "3\n",
      "6\n",
      "9\n"
     ]
    }
   ],
   "source": [
    "# print multiples of 3\n",
    "\n",
    "a = int(input())\n",
    "b = int(input())\n",
    "i = a\n",
    "while i < b:\n",
    "    if i % 3 == 0: break\n",
    "    i = i + 1\n",
    "    \n",
    "for i in range(i, b+1, 3):\n",
    "        print(i)\n",
    "    "
   ]
  },
  {
   "cell_type": "code",
   "execution_count": 16,
   "id": "f638391a",
   "metadata": {},
   "outputs": [
    {
     "name": "stdout",
     "output_type": "stream",
     "text": [
      "8\n",
      "Not prime\n"
     ]
    }
   ],
   "source": [
    "num = int(input())\n",
    "isPrime = True\n",
    "for x in range(2, num, 1):\n",
    "    if num % x == 0:\n",
    "        isPrime = False\n",
    "        break\n",
    "        \n",
    "if isPrime:\n",
    "    print(\"yes\")\n",
    "else:\n",
    "    print(\"Not prime\")\n",
    "        "
   ]
  },
  {
   "cell_type": "code",
   "execution_count": 19,
   "id": "37dcca02",
   "metadata": {},
   "outputs": [
    {
     "name": "stdout",
     "output_type": "stream",
     "text": [
      "normal print\n"
     ]
    }
   ],
   "source": [
    "# Here, else block executes only on completion of entire iteration.\n",
    "# So if the loop is terminated by break, else block wont execute.\n",
    "\n",
    "for i in range(1,5,1):\n",
    "    if i == 4 :\n",
    "        break\n",
    "else:\n",
    "    print(\"in else\")\n",
    "\n",
    "print(\"normal print\")"
   ]
  },
  {
   "cell_type": "code",
   "execution_count": 15,
   "id": "81aae000",
   "metadata": {},
   "outputs": [
    {
     "name": "stdout",
     "output_type": "stream",
     "text": [
      "1\n",
      "2\n",
      "3\n",
      "4\n",
      "in else\n"
     ]
    }
   ],
   "source": [
    "for i in range(1,5,1):\n",
    "    print(i)\n",
    "else:\n",
    "    print(\"in else\")"
   ]
  },
  {
   "cell_type": "code",
   "execution_count": 47,
   "id": "ab26b3b9",
   "metadata": {
    "scrolled": true
   },
   "outputs": [
    {
     "name": "stdout",
     "output_type": "stream",
     "text": [
      "its irrelevent stuff\n"
     ]
    }
   ],
   "source": [
    "# if we dnt want to write anything inside loops or if-block\n",
    "# then we must write \"pass\" to avoid python syntax error.\n",
    "i = 5\n",
    "if(i == 5):\n",
    "    pass\n",
    "print(\"its irrelevent stuff\")"
   ]
  },
  {
   "cell_type": "markdown",
   "id": "45b38549",
   "metadata": {},
   "source": [
    "# Strings"
   ]
  },
  {
   "cell_type": "markdown",
   "id": "aa9ba882",
   "metadata": {},
   "source": [
    "In python, character data type dsnt exist, only string does."
   ]
  },
  {
   "cell_type": "code",
   "execution_count": 53,
   "id": "72fdf573",
   "metadata": {},
   "outputs": [
    {
     "name": "stdout",
     "output_type": "stream",
     "text": [
      "r\n"
     ]
    },
    {
     "data": {
      "text/plain": [
       "str"
      ]
     },
     "execution_count": 53,
     "metadata": {},
     "output_type": "execute_result"
    }
   ],
   "source": [
    "s = \"harshvardhan\"\n",
    "print(s[2])\n",
    "type(s[2])"
   ]
  },
  {
   "cell_type": "code",
   "execution_count": 11,
   "id": "0e1026f6",
   "metadata": {},
   "outputs": [
    {
     "data": {
      "text/plain": [
       "'hhhhh'"
      ]
     },
     "execution_count": 11,
     "metadata": {},
     "output_type": "execute_result"
    }
   ],
   "source": [
    "k = \"h\"\n",
    "k*5"
   ]
  },
  {
   "cell_type": "code",
   "execution_count": 56,
   "id": "605d68bc",
   "metadata": {},
   "outputs": [
    {
     "name": "stdout",
     "output_type": "stream",
     "text": [
      "harshvardhan"
     ]
    }
   ],
   "source": [
    "for i in s:\n",
    "    print(i, end=\"\")"
   ]
  },
  {
   "cell_type": "code",
   "execution_count": 5,
   "id": "e4569991",
   "metadata": {},
   "outputs": [
    {
     "name": "stdout",
     "output_type": "stream",
     "text": [
      "Hey there harsh's ... \"great day it was\" gfghg\n"
     ]
    }
   ],
   "source": [
    "a = 'Hey there harsh\\'s ... \"great day it was\" gfghg'\n",
    "print(a)"
   ]
  },
  {
   "cell_type": "code",
   "execution_count": 76,
   "id": "5012ac48",
   "metadata": {},
   "outputs": [
    {
     "data": {
      "text/plain": [
       "True"
      ]
     },
     "execution_count": 76,
     "metadata": {},
     "output_type": "execute_result"
    }
   ],
   "source": [
    "'a' > 'A'"
   ]
  },
  {
   "cell_type": "code",
   "execution_count": 12,
   "id": "e4e31a21",
   "metadata": {},
   "outputs": [
    {
     "data": {
      "text/plain": [
       "['hey', 'my', 'name', 'is', 'harsh']"
      ]
     },
     "execution_count": 12,
     "metadata": {},
     "output_type": "execute_result"
    }
   ],
   "source": [
    "# original string wont change, we will get new string.\n",
    "# split(): returns a list. By default split happens on white space.\n",
    "myStr = \"hey my name is harsh\"\n",
    "myStr.split()"
   ]
  },
  {
   "cell_type": "code",
   "execution_count": 20,
   "id": "4860d19d",
   "metadata": {},
   "outputs": [
    {
     "name": "stdout",
     "output_type": "stream",
     "text": [
      "('x', 'A', 'yAzAq')\n"
     ]
    },
    {
     "data": {
      "text/plain": [
       "tuple"
      ]
     },
     "execution_count": 20,
     "metadata": {},
     "output_type": "execute_result"
    }
   ],
   "source": [
    "# partition(): unlike split, the delimeter through which partition takes place \n",
    "#  will also be part of resulting tuple.\n",
    "# Unlike split(), There is no default space delimeter in case of partition()\n",
    "# Unlike split(), it will divide for only first occurence of delimeter.\n",
    "# partition() returns tuple, not list.\n",
    "\n",
    "myStr = \"xAyAzAq\"  # 'A' is delimeter here\n",
    "res =  myStr.partition(\"A\") \n",
    "print(res)\n",
    "type (res)"
   ]
  },
  {
   "cell_type": "code",
   "execution_count": 25,
   "id": "941b19bd",
   "metadata": {},
   "outputs": [
    {
     "data": {
      "text/plain": [
       "'aHEYaa'"
      ]
     },
     "execution_count": 25,
     "metadata": {},
     "output_type": "execute_result"
    }
   ],
   "source": [
    "f = \"HEY\"\n",
    "f.center(6, 'a')\n",
    "#NOTE: center(arg1, arg2) accepts single character only, for arg2"
   ]
  },
  {
   "cell_type": "code",
   "execution_count": 28,
   "id": "71128183",
   "metadata": {},
   "outputs": [
    {
     "name": "stdout",
     "output_type": "stream",
     "text": [
      "enter nameharsh\n",
      "enter age25\n"
     ]
    },
    {
     "data": {
      "text/plain": [
       "'Hi i am harsh, my age is 25'"
      ]
     },
     "execution_count": 28,
     "metadata": {},
     "output_type": "execute_result"
    }
   ],
   "source": [
    "name = input(\"enter name\")\n",
    "age = int(input(\"enter age\"))\n",
    "'Hi i am {}, my age is {}'.format(name, age)"
   ]
  },
  {
   "cell_type": "code",
   "execution_count": 7,
   "id": "b4e30dc8",
   "metadata": {},
   "outputs": [
    {
     "data": {
      "text/plain": [
       "'Hey there harsh\\'s ... \"great day es was\" gfghg'"
      ]
     },
     "execution_count": 7,
     "metadata": {},
     "output_type": "execute_result"
    }
   ],
   "source": [
    "# replace: original string wont change, we will get new string.\n",
    "a.replace(\"it\", \"es\")\n",
    "# print(a)\n"
   ]
  },
  {
   "cell_type": "code",
   "execution_count": 86,
   "id": "9ff93dbc",
   "metadata": {},
   "outputs": [
    {
     "data": {
      "text/plain": [
       "4"
      ]
     },
     "execution_count": 86,
     "metadata": {},
     "output_type": "execute_result"
    }
   ],
   "source": [
    "# find: gives idx of first letter, here 't'\n",
    "a.find(\"there\") # returns -1, if not found"
   ]
  },
  {
   "cell_type": "code",
   "execution_count": 88,
   "id": "c3c82f1a",
   "metadata": {},
   "outputs": [
    {
     "data": {
      "text/plain": [
       "'HEY THERE HARSH\\'S ... \"GREAT DAY IT WAS\" GFGHG'"
      ]
     },
     "execution_count": 88,
     "metadata": {},
     "output_type": "execute_result"
    }
   ],
   "source": [
    "# upper\n",
    "a.upper()"
   ]
  },
  {
   "cell_type": "code",
   "execution_count": 91,
   "id": "3be46829",
   "metadata": {},
   "outputs": [
    {
     "data": {
      "text/plain": [
       "False"
      ]
     },
     "execution_count": 91,
     "metadata": {},
     "output_type": "execute_result"
    }
   ],
   "source": [
    "# islower\n",
    "a.islower()"
   ]
  },
  {
   "cell_type": "code",
   "execution_count": 9,
   "id": "3688f22e",
   "metadata": {},
   "outputs": [
    {
     "data": {
      "text/plain": [
       "'i th'"
      ]
     },
     "execution_count": 9,
     "metadata": {},
     "output_type": "execute_result"
    }
   ],
   "source": [
    "# string slicing: s[startIndex, endIndex, jump], where endIndex is excluded.\n",
    "myS = \"hi there its me\"\n",
    "x = myS[1:5]\n",
    "x"
   ]
  },
  {
   "cell_type": "code",
   "execution_count": 93,
   "id": "f40d48a8",
   "metadata": {},
   "outputs": [
    {
     "data": {
      "text/plain": [
       "'hi there its me'"
      ]
     },
     "execution_count": 93,
     "metadata": {},
     "output_type": "execute_result"
    }
   ],
   "source": [
    "myS[:] # gives complete string"
   ]
  },
  {
   "cell_type": "code",
   "execution_count": 94,
   "id": "c9b2dda1",
   "metadata": {},
   "outputs": [
    {
     "name": "stdout",
     "output_type": "stream",
     "text": [
      "hsra\n",
      "hsrah\n",
      "hsrah\n"
     ]
    }
   ],
   "source": [
    "s =  \"harsh\"\n",
    "s1 = s[5:0:-1]\n",
    "s2 = s[5::-1]\n",
    "s3 = s[::-1]\n",
    "print(s1)\n",
    "print(s2)\n",
    "print(s3)"
   ]
  },
  {
   "cell_type": "code",
   "execution_count": 33,
   "id": "c72b1fc4",
   "metadata": {},
   "outputs": [
    {
     "name": "stdout",
     "output_type": "stream",
     "text": [
      "hey x z h x\n"
     ]
    },
    {
     "data": {
      "text/plain": [
       "'hey y z h x'"
      ]
     },
     "execution_count": 33,
     "metadata": {},
     "output_type": "execute_result"
    }
   ],
   "source": [
    "# replace first occurence of x with y in s\n",
    "s = input()\n",
    "ans = s\n",
    "position = ans.find('x')\n",
    "\n",
    "if position != -1:\n",
    "    ans = s[:position] + 'y' + s[position+1:]\n",
    "\n",
    "ans"
   ]
  },
  {
   "cell_type": "code",
   "execution_count": 99,
   "id": "58f8c582",
   "metadata": {},
   "outputs": [
    {
     "name": "stdout",
     "output_type": "stream",
     "text": [
      "asdxasex\n"
     ]
    },
    {
     "data": {
      "text/plain": [
       "'asdyasey'"
      ]
     },
     "execution_count": 99,
     "metadata": {},
     "output_type": "execute_result"
    }
   ],
   "source": [
    "s = input()\n",
    "ans = s\n",
    "for i in range(0, len(s)):\n",
    "    if s[i] == 'x':\n",
    "        ans = ans[:i] + 'y' + ans[i+1:]\n",
    "ans"
   ]
  },
  {
   "cell_type": "markdown",
   "id": "4fc4fdc0",
   "metadata": {},
   "source": [
    "# Lists\n",
    "\n",
    "sort, remove, insert, append, & extend does operation on original list itself\n"
   ]
  },
  {
   "cell_type": "code",
   "execution_count": 84,
   "id": "ea477a17",
   "metadata": {
    "scrolled": false
   },
   "outputs": [
    {
     "name": "stdout",
     "output_type": "stream",
     "text": [
      "[]\n",
      "[]\n"
     ]
    }
   ],
   "source": [
    "# ways to create list data structure\n",
    "c = []\n",
    "c1 = list()\n",
    "print(c)\n",
    "print(c1)"
   ]
  },
  {
   "cell_type": "code",
   "execution_count": 91,
   "id": "f1c72f50",
   "metadata": {},
   "outputs": [
    {
     "name": "stdout",
     "output_type": "stream",
     "text": [
      "[1, 5, True, 'harsh']\n",
      "harsh\n",
      "[1, 5, True]\n",
      "['harsh', True]\n",
      "[]\n"
     ]
    }
   ],
   "source": [
    "a = [1, 2, True, \"harsh\"]\n",
    "\n",
    "a[1] = 5 # lists are mutuable, unlike strings.\n",
    "print(a)\n",
    "print(a[-1])\n",
    "print(a[0:3])\n",
    "print(a[3:-3:-1])\n",
    "print(a[-1:-3]) # empty bcz jump is +1 bydefault, causing direction clash"
   ]
  },
  {
   "cell_type": "code",
   "execution_count": 107,
   "id": "bada8432",
   "metadata": {},
   "outputs": [
    {
     "data": {
      "text/plain": [
       "[1, 2, 5, 7, 1, 2, 5, 7, 1, 2, 5, 7]"
      ]
     },
     "execution_count": 107,
     "metadata": {},
     "output_type": "execute_result"
    }
   ],
   "source": [
    "a * 3 # repeating three times"
   ]
  },
  {
   "cell_type": "code",
   "execution_count": 5,
   "id": "ec21e077",
   "metadata": {},
   "outputs": [
    {
     "data": {
      "text/plain": [
       "['hey', 'harsh', 5, 5, 5, 5, 5, 5, 5, 5, 5, 5]"
      ]
     },
     "execution_count": 5,
     "metadata": {},
     "output_type": "execute_result"
    }
   ],
   "source": [
    "c = [\"hey\",\"harsh\"] + b  # gives new list\n",
    "c"
   ]
  },
  {
   "cell_type": "code",
   "execution_count": 63,
   "id": "bff6e9d5",
   "metadata": {},
   "outputs": [
    {
     "data": {
      "text/plain": [
       "[True, 10, 20, [30, 900], 1000]"
      ]
     },
     "execution_count": 63,
     "metadata": {},
     "output_type": "execute_result"
    }
   ],
   "source": [
    "# append: add data to the end\n",
    "x = [True, 10, 20]\n",
    "x.append([30, 900]) \n",
    "x.append(1000)\n",
    "x"
   ]
  },
  {
   "cell_type": "code",
   "execution_count": 115,
   "id": "35eadbee",
   "metadata": {},
   "outputs": [
    {
     "data": {
      "text/plain": [
       "[False, True, 10, 20, 30]"
      ]
     },
     "execution_count": 115,
     "metadata": {},
     "output_type": "execute_result"
    }
   ],
   "source": [
    "x.insert(0, False) # add data to specific index(here 0th index)\n",
    "x"
   ]
  },
  {
   "cell_type": "code",
   "execution_count": 80,
   "id": "8b8311d4",
   "metadata": {},
   "outputs": [
    {
     "data": {
      "text/plain": [
       "[100, 200, 'a', 'z', True, 888, [1.1, 2.2, 3.3]]"
      ]
     },
     "execution_count": 80,
     "metadata": {},
     "output_type": "execute_result"
    }
   ],
   "source": [
    "a = [100, 200, 'a', 'z']\n",
    "b = [True, 888, [1.1, 2.2, 3.3]]\n",
    "a.extend(b) # list expansion but upto one level only, dsnt expand nested lists.\n",
    "a"
   ]
  },
  {
   "cell_type": "code",
   "execution_count": 44,
   "id": "42447d49",
   "metadata": {},
   "outputs": [
    {
     "data": {
      "text/plain": [
       "[10, 30, 40, 50, 20]"
      ]
     },
     "execution_count": 44,
     "metadata": {},
     "output_type": "execute_result"
    }
   ],
   "source": [
    "a = [10, 20, 30, 40, 50, 20]\n",
    "a.remove(20)  # removes first occurence of 20. Dsnt retrn anything.\n",
    "a"
   ]
  },
  {
   "cell_type": "code",
   "execution_count": 7,
   "id": "22093c2c",
   "metadata": {},
   "outputs": [
    {
     "name": "stdout",
     "output_type": "stream",
     "text": [
      "[10, 20, 40]\n"
     ]
    },
    {
     "data": {
      "text/plain": [
       "30"
      ]
     },
     "execution_count": 7,
     "metadata": {},
     "output_type": "execute_result"
    }
   ],
   "source": [
    "x = [10, 20, 30, 40]\n",
    "popedElem = x.pop(2)   # deletes the elem of given idx. Returns poped elem.\n",
    "print(x)\n",
    "popedElem"
   ]
  },
  {
   "cell_type": "code",
   "execution_count": 131,
   "id": "44c86f5e",
   "metadata": {},
   "outputs": [
    {
     "data": {
      "text/plain": [
       "[10, 30, 40]"
      ]
     },
     "execution_count": 131,
     "metadata": {},
     "output_type": "execute_result"
    }
   ],
   "source": [
    "c = [10, 20, 30, 40]\n",
    "del c[1]   # deletes the elem of given idx. Desnt return deleted elem.\n",
    "c"
   ]
  },
  {
   "cell_type": "code",
   "execution_count": 82,
   "id": "b92a6378",
   "metadata": {},
   "outputs": [
    {
     "data": {
      "text/plain": [
       "True"
      ]
     },
     "execution_count": 82,
     "metadata": {},
     "output_type": "execute_result"
    }
   ],
   "source": [
    "c = [20, 200, 3, -3]\n",
    "c.sort()\n",
    "max(c)\n",
    "c.index(3)  # gives index, else error if elem passed as arg doesnt exist in list.\n",
    "200 in c    # Gives true/false, if present or not\n"
   ]
  },
  {
   "cell_type": "code",
   "execution_count": 5,
   "id": "fc011ec8",
   "metadata": {},
   "outputs": [
    {
     "name": "stdout",
     "output_type": "stream",
     "text": [
      "23\n",
      "5\n",
      "10\n",
      "15\n",
      "4\n",
      "8\n",
      "12\n"
     ]
    },
    {
     "data": {
      "text/plain": [
       "[[5, 10, 15], [4, 8, 12]]"
      ]
     },
     "execution_count": 5,
     "metadata": {},
     "output_type": "execute_result"
    }
   ],
   "source": [
    "sizes = input()\n",
    "m = int(sizes[0])\n",
    "n = int(sizes[1])\n",
    "myList = []\n",
    "for i in range(m):\n",
    "    next_row = []\n",
    "    for j in range(n):\n",
    "        elem = int(input())\n",
    "        next_row.append(elem)\n",
    "    myList.append(next_row)\n",
    "myList\n"
   ]
  },
  {
   "cell_type": "code",
   "execution_count": 11,
   "id": "d639c499",
   "metadata": {},
   "outputs": [
    {
     "name": "stdout",
     "output_type": "stream",
     "text": [
      "1\n",
      "2\n",
      "True\n",
      "4\n",
      "5\n",
      "6\n",
      "fgg\n"
     ]
    }
   ],
   "source": [
    "myList = [1, 2, True, 4, 5, 6, \"fgg\"]\n",
    "for index in range(len(myList)):\n",
    "    print(myList[index])"
   ]
  },
  {
   "cell_type": "code",
   "execution_count": 34,
   "id": "033157c3",
   "metadata": {},
   "outputs": [
    {
     "name": "stdout",
     "output_type": "stream",
     "text": [
      "[4, 3, 2, 1]\n",
      "[1, 2, 3, 4]\n",
      "[4, 3, 2, 1]\n"
     ]
    }
   ],
   "source": [
    "x = [1, 2, 3, 4]\n",
    "print(x[::-1]) \n",
    "print(x)      # original list didnt affected.\n",
    "x.reverse();\n",
    "print(x)      # original list gets reversed here"
   ]
  },
  {
   "cell_type": "code",
   "execution_count": 38,
   "id": "c5dc9410",
   "metadata": {},
   "outputs": [
    {
     "data": {
      "text/plain": [
       "[8, 7, 5, 3, 1]"
      ]
     },
     "execution_count": 38,
     "metadata": {},
     "output_type": "execute_result"
    }
   ],
   "source": [
    "k = [1, 7, 3, 8, 5]\n",
    "k.sort()  # in ascending order\n",
    "k\n",
    "k.sort(reverse=True) # Sort in descending order\n",
    "k"
   ]
  },
  {
   "cell_type": "code",
   "execution_count": 43,
   "id": "e01bccc1",
   "metadata": {},
   "outputs": [
    {
     "name": "stdout",
     "output_type": "stream",
     "text": [
      "[[1, 2, 4], [4, 6, 8], [8, 5, 3, 44, 66, 88]]\n",
      "[8, 3, 66]\n"
     ]
    }
   ],
   "source": [
    "x = [1, 2, 4]\n",
    "y = [4, 6, 8]\n",
    "z = [8, 5, 3,44, 66, 88]\n",
    "alpha = [x, y, z]\n",
    "print(alpha)\n",
    "print(alpha[-1][::2])"
   ]
  },
  {
   "cell_type": "code",
   "execution_count": 73,
   "id": "3a7f7b27",
   "metadata": {},
   "outputs": [
    {
     "data": {
      "text/plain": [
       "[[88, 66, 44, 3, 5, 8], [8, 6, 4], [4, 2, 1]]"
      ]
     },
     "execution_count": 73,
     "metadata": {},
     "output_type": "execute_result"
    }
   ],
   "source": [
    "# Reverse above list. Also reverse nested lists.\n",
    "\n",
    "# alpha.reverse()\n",
    "# for idx in range(len(alpha)) :\n",
    "#     alpha[idx].reverse()\n",
    "# alpha\n",
    "\n",
    "# Approach-2:\n",
    "L = alpha[::-1]\n",
    "finalList = []\n",
    "for index in range(len(L)) :\n",
    "    finalList.append(L[index][::-1])\n",
    "finalList"
   ]
  },
  {
   "cell_type": "code",
   "execution_count": 76,
   "id": "b3b034b9",
   "metadata": {},
   "outputs": [
    {
     "data": {
      "text/plain": [
       "[0, 2, 4, 6, 8, 10, 12, 14, 16, 18]"
      ]
     },
     "execution_count": 76,
     "metadata": {},
     "output_type": "execute_result"
    }
   ],
   "source": [
    "# List comprehension:\n",
    "\n",
    "b = [i*2 for i in range(10)]\n",
    "b"
   ]
  },
  {
   "cell_type": "code",
   "execution_count": 79,
   "id": "1b45d29a",
   "metadata": {},
   "outputs": [
    {
     "data": {
      "text/plain": [
       "[[0, 1, 2, 3, 4],\n",
       " [0, 1, 2, 3, 4],\n",
       " [0, 1, 2, 3, 4],\n",
       " [0, 1, 2, 3, 4],\n",
       " [0, 1, 2, 3, 4]]"
      ]
     },
     "execution_count": 79,
     "metadata": {},
     "output_type": "execute_result"
    }
   ],
   "source": [
    "a = [[j for j in range(5)] for i in range(5)]\n",
    "a"
   ]
  },
  {
   "cell_type": "code",
   "execution_count": 90,
   "id": "949c96cb",
   "metadata": {},
   "outputs": [
    {
     "data": {
      "text/plain": [
       "[6, 12, 18]"
      ]
     },
     "execution_count": 90,
     "metadata": {},
     "output_type": "execute_result"
    }
   ],
   "source": [
    "[ j*2 for j in [ idx[2] for idx in [[1,2,3], [2,4,6], [3,6,9]] ] ]"
   ]
  },
  {
   "cell_type": "code",
   "execution_count": 87,
   "id": "5f33415b",
   "metadata": {},
   "outputs": [
    {
     "name": "stdout",
     "output_type": "stream",
     "text": [
      "34\n",
      "23\n",
      "23\n",
      "23\n"
     ]
    },
    {
     "data": {
      "text/plain": [
       "[[23], [23], [23]]"
      ]
     },
     "execution_count": 87,
     "metadata": {},
     "output_type": "execute_result"
    }
   ],
   "source": [
    "sizes = input()\n",
    "m = int(sizes[0])\n",
    "n = int(sizes[1])\n",
    "myList = []\n",
    "for i in range(m):\n",
    "    next_row = [int(x) for x in input().split()]\n",
    "    myList.append(next_row)\n",
    "myList"
   ]
  },
  {
   "cell_type": "code",
   "execution_count": 92,
   "id": "b30a13b0",
   "metadata": {},
   "outputs": [
    {
     "data": {
      "text/plain": [
       "['ha', 'sh']"
      ]
     },
     "execution_count": 92,
     "metadata": {},
     "output_type": "execute_result"
    }
   ],
   "source": [
    "s= \"harsh\"\n",
    "s.split('r')"
   ]
  }
 ],
 "metadata": {
  "kernelspec": {
   "display_name": "Python 3 (ipykernel)",
   "language": "python",
   "name": "python3"
  },
  "language_info": {
   "codemirror_mode": {
    "name": "ipython",
    "version": 3
   },
   "file_extension": ".py",
   "mimetype": "text/x-python",
   "name": "python",
   "nbconvert_exporter": "python",
   "pygments_lexer": "ipython3",
   "version": "3.9.13"
  }
 },
 "nbformat": 4,
 "nbformat_minor": 5
}
